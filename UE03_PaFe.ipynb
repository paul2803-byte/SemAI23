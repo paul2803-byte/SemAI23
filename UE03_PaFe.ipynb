{
  "nbformat": 4,
  "nbformat_minor": 0,
  "metadata": {
    "colab": {
      "provenance": []
    },
    "kernelspec": {
      "name": "python3",
      "display_name": "Python 3"
    },
    "language_info": {
      "name": "python"
    }
  },
  "cells": [
    {
      "cell_type": "markdown",
      "source": [
        "#UE03 - SPARQL Query\n",
        "\n",
        "Please complete the 10 tasks in the `2. SPARQL` sheet of `SemAI.jar` first, and then transfer the task descriptions and your solutiosn in executable form to this notebook."
      ],
      "metadata": {
        "id": "PUyG1F1sVDEW"
      }
    },
    {
      "cell_type": "markdown",
      "source": [
        "## Preparation\n",
        "\n",
        "Reuse imports and functions from https://github.com/jku-win-dke/SemAI/blob/main/V02_SPARQL.ipynb and load the solar system graph. Query the solar system graph to check that everything works fine. "
      ],
      "metadata": {
        "id": "Ky2HcjBHxqLp"
      }
    },
    {
      "cell_type": "code",
      "execution_count": null,
      "metadata": {
        "id": "RgRHkpEsLmx_"
      },
      "outputs": [],
      "source": [
        "# Install required packages\n",
        "!pip install -q rdflib\n",
        "\n",
        "# Imports\n",
        "import pandas as pd\n",
        "from rdflib import Graph, Literal, RDF, URIRef, BNode, Namespace\n",
        "from rdflib.namespace import FOAF , XSD , RDFS, NamespaceManager \n",
        "\n",
        "# Convenient Functions\n",
        "def sparql_select(graph,query,use_prefixes=True):\n",
        "  results = graph.query(query)          # execute the query against the graph, resulting in a rdflib.plugins.sparql.processor.SPARQLResult\n",
        "  rows = []                             # a list of dictionaries, as intermediate format to construct the pandas DataFrame\n",
        "  for result in results:                # iterate over the result set of the query, a result is an instance of rdflib.query.ResultRow\n",
        "    row = {}                            #     create a dictionary to hold a single row of the result\n",
        "    for var in results.vars:            #     iterate over the variables of the SPARQLResult to add a dictionary entry for each variable\n",
        "      if (isinstance(result[var],URIRef) and use_prefixes):\n",
        "        row[var] = result[var].n3(graph.namespace_manager)   # use namespace prefixes to shorten URIs\n",
        "      else:\n",
        "        row[var] = result[var]                  \n",
        "    rows.append(row)                    #     add the dictionary (row) to the list \n",
        "  return pd.DataFrame(rows,columns=results.vars)        \n",
        "                                        # return a pandas DataFrame constructed from the list of dictionaries, with the variables from the result set as columns      \n",
        "\n",
        "def sparql_construct(graph, query):\n",
        "  result_graph = Graph(namespace_manager = g.namespace_manager)  # create a Graph object that reuses the namespace prefixes of the original graph\n",
        "  result_graph += graph.query(query)                             # execute the construct query against the original graph and add the resulting graph to the new one\n",
        "  return result_graph\n",
        "\n",
        "def sparql_ask(graph, query):\n",
        "  return bool(graph.query(query))      # an ASK query has a boolean result, which should be returned as such\n",
        "\n",
        "# Load solar system graph\n",
        "g = Graph()\n",
        "g.parse(\"https://raw.githubusercontent.com/jku-win-dke/SemAI/main/data/solarsystem.ttl\",format=\"turtle\")\n",
        "\n",
        "# Query solar system graph (to check that everything works fine)\n",
        "df = sparql_select(g,\"\"\"\n",
        "  SELECT ?planet ?apoapsis ?apoapsis_uom\n",
        "  WHERE { \n",
        "    ?planet rdf:type dbo:Planet . \n",
        "    OPTIONAL { ?planet v:apoapsis [rdf:value ?apoapsis ; v:uom ?apoapsis_uom ].  }\n",
        "  }\n",
        "\"\"\")\n",
        "df"
      ]
    },
    {
      "cell_type": "markdown",
      "source": [
        "\n",
        "## Task 1 (1 pt)\n",
        "\n",
        "*TODO: add task description*"
      ],
      "metadata": {
        "id": "yRBr_COBQPQE"
      }
    },
    {
      "cell_type": "code",
      "source": [
        "# TODO: include and execute the query, display the result\n",
        "df = sparql_select(g, \"\"\"\n",
        "base         <http://dke.jku.at/example/>\n",
        "prefix :     <http://dke.jku.at/example/solarsystem/>\n",
        "prefix v:    <http://dke.jku.at/example/examplevocabulary/>\n",
        "prefix rdf:  <http://www.w3.org/1999/02/22-rdf-syntax-ns#>\n",
        "prefix rdfs: <http://www.w3.org/2000/01/rdf-schema#>\n",
        "prefix dbr:  <http://dbpedia.org/resource/>\n",
        "prefix dbo:  <http://dbpedia.org/ontology/>\n",
        "prefix dbd:\t <http://dbpedia.org/datatype/>\n",
        "prefix sdo:  <http://schema.org/>\n",
        "prefix wd:   <http://www.wikidata.org/entity/>\n",
        "prefix wdp:  <http://www.wikidata.org/prop/>\n",
        "prefix skos: <http://www.w3.org/2004/02/skos/core#>\n",
        "prefix unit: <http://qudt.org/vocab/unit/>\n",
        "prefix owl:  <http://www.w3.org/2002/07/owl#>\n",
        "\n",
        "SELECT ?d ?match\n",
        "WHERE { \n",
        "?d a dbo:DwarfPlanet .\n",
        "Optional { ?d skos:exactMatch ?match}\n",
        "}\n",
        "ORDER BY ?p \n",
        "\n",
        "\"\"\")\n",
        "df"
      ],
      "metadata": {
        "id": "0PE_ll0-MCdk"
      },
      "execution_count": null,
      "outputs": []
    },
    {
      "cell_type": "markdown",
      "source": [
        "## Task 2 (1 pt)\n",
        "\n",
        "*TODO: add task description*"
      ],
      "metadata": {
        "id": "YVzpX0ExF6wO"
      }
    },
    {
      "cell_type": "code",
      "source": [
        "# TODO: include and execute the query, display the result\n",
        "df = sparql_select(g, \"\"\"\n",
        "base         <http://dke.jku.at/example/>\n",
        "prefix :     <http://dke.jku.at/example/solarsystem/>\n",
        "prefix v:    <http://dke.jku.at/example/examplevocabulary/>\n",
        "prefix rdf:  <http://www.w3.org/1999/02/22-rdf-syntax-ns#>\n",
        "prefix rdfs: <http://www.w3.org/2000/01/rdf-schema#>\n",
        "prefix dbr:  <http://dbpedia.org/resource/>\n",
        "prefix dbo:  <http://dbpedia.org/ontology/>\n",
        "prefix dbd:\t <http://dbpedia.org/datatype/>\n",
        "prefix sdo:  <http://schema.org/>\n",
        "prefix wd:   <http://www.wikidata.org/entity/>\n",
        "prefix wdp:  <http://www.wikidata.org/prop/>\n",
        "prefix skos: <http://www.w3.org/2004/02/skos/core#>\n",
        "prefix unit: <http://qudt.org/vocab/unit/>\n",
        "prefix owl:  <http://www.w3.org/2002/07/owl#>\n",
        "\n",
        "SELECT ?star ?match ?massVal ?massUoM\n",
        "WHERE { \n",
        "?star a dbo:Star ;\n",
        "skos:exactMatch ?match ;\n",
        "v:mass [\n",
        "rdf:value ?massVal ;\n",
        "v:uom ?massUoM ;\n",
        "] .\n",
        " }\n",
        "ORDER BY ?star\n",
        "\n",
        "\"\"\")\n",
        "df"
      ],
      "metadata": {
        "id": "j82TeG59F6wP"
      },
      "execution_count": null,
      "outputs": []
    },
    {
      "cell_type": "markdown",
      "source": [
        "## Task 3 (1 pt)\n",
        "\n",
        "*TODO: add task description*"
      ],
      "metadata": {
        "id": "3i2B2tLRF7T3"
      }
    },
    {
      "cell_type": "code",
      "source": [
        "# TODO: include and execute the query, display the result\n",
        "df = sparql_select(g, \"\"\"\n",
        "base         <http://dke.jku.at/example/>\n",
        "prefix :     <http://dke.jku.at/example/solarsystem/>\n",
        "prefix v:    <http://dke.jku.at/example/examplevocabulary/>\n",
        "prefix rdf:  <http://www.w3.org/1999/02/22-rdf-syntax-ns#>\n",
        "prefix rdfs: <http://www.w3.org/2000/01/rdf-schema#>\n",
        "prefix dbr:  <http://dbpedia.org/resource/>\n",
        "prefix dbo:  <http://dbpedia.org/ontology/>\n",
        "prefix dbd:\t <http://dbpedia.org/datatype/>\n",
        "prefix sdo:  <http://schema.org/>\n",
        "prefix wd:   <http://www.wikidata.org/entity/>\n",
        "prefix wdp:  <http://www.wikidata.org/prop/>\n",
        "prefix skos: <http://www.w3.org/2004/02/skos/core#>\n",
        "prefix unit: <http://qudt.org/vocab/unit/>\n",
        "prefix owl:  <http://www.w3.org/2002/07/owl#>\n",
        "\n",
        "SELECT ?planet ?assertedNo (COUNT(?moon) AS ?noOfDescribedMoons)\n",
        "WHERE { \n",
        "  ?planet a dbo:Planet ;\n",
        "  v:nrOfMoons ?assertedNo .\n",
        "  OPTIONAL {\n",
        "  ?moon v:orbits ?planet .\n",
        "  }\n",
        "}\n",
        "GROUP BY ?planet\n",
        "ORDER BY ?planet\n",
        "\"\"\")\n",
        "df"
      ],
      "metadata": {
        "id": "uZVUV577F7T4"
      },
      "execution_count": null,
      "outputs": []
    },
    {
      "cell_type": "markdown",
      "source": [
        "## Task 4 (1 pt)\n",
        "\n",
        "*TODO: add task description*"
      ],
      "metadata": {
        "id": "OEx2sM7nF7n2"
      }
    },
    {
      "cell_type": "code",
      "source": [
        "# TODO: include and execute the query, display the result\n",
        "df = sparql_select(g, \"\"\"\n",
        "base         <http://dke.jku.at/example/>\n",
        "prefix :     <http://dke.jku.at/example/solarsystem/>\n",
        "prefix v:    <http://dke.jku.at/example/examplevocabulary/>\n",
        "prefix rdf:  <http://www.w3.org/1999/02/22-rdf-syntax-ns#>\n",
        "prefix rdfs: <http://www.w3.org/2000/01/rdf-schema#>\n",
        "prefix dbr:  <http://dbpedia.org/resource/>\n",
        "prefix dbo:  <http://dbpedia.org/ontology/>\n",
        "prefix dbd:\t <http://dbpedia.org/datatype/>\n",
        "prefix sdo:  <http://schema.org/>\n",
        "prefix wd:   <http://www.wikidata.org/entity/>\n",
        "prefix wdp:  <http://www.wikidata.org/prop/>\n",
        "prefix skos: <http://www.w3.org/2004/02/skos/core#>\n",
        "prefix unit: <http://qudt.org/vocab/unit/>\n",
        "prefix owl:  <http://www.w3.org/2002/07/owl#>\n",
        "\n",
        "SELECT (avg(COALESCE(?noOfDescribedMoons, 0)) as ?avgNoOfDescribedMoons)\n",
        "WHERE { \n",
        "?planet a dbo:Planet ;\n",
        "Optional{\n",
        "  Select ?planet (count(?moon) as ?noOfDescribedMoons)\n",
        "  Where {\n",
        "    ?moon v:orbits ?planet .\n",
        "  }\n",
        "  Group By ?planet\n",
        "}\n",
        "}\"\"\")\n",
        "df"
      ],
      "metadata": {
        "id": "1kk9dlZAF7n3"
      },
      "execution_count": null,
      "outputs": []
    },
    {
      "cell_type": "markdown",
      "source": [
        "## Task 5 (1 pt)\n",
        "\n",
        "*TODO: add task description*"
      ],
      "metadata": {
        "id": "1nGGo4_XF70X"
      }
    },
    {
      "cell_type": "code",
      "source": [
        "# TODO: include and execute the query, display the result\n",
        "df = sparql_select(g, \"\"\"\n",
        "base         <http://dke.jku.at/example/>\n",
        "prefix :     <http://dke.jku.at/example/solarsystem/>\n",
        "prefix v:    <http://dke.jku.at/example/examplevocabulary/>\n",
        "prefix rdf:  <http://www.w3.org/1999/02/22-rdf-syntax-ns#>\n",
        "prefix rdfs: <http://www.w3.org/2000/01/rdf-schema#>\n",
        "prefix dbr:  <http://dbpedia.org/resource/>\n",
        "prefix dbo:  <http://dbpedia.org/ontology/>\n",
        "prefix dbd:\t <http://dbpedia.org/datatype/>\n",
        "prefix sdo:  <http://schema.org/>\n",
        "prefix wd:   <http://www.wikidata.org/entity/>\n",
        "prefix wdp:  <http://www.wikidata.org/prop/>\n",
        "prefix skos: <http://www.w3.org/2004/02/skos/core#>\n",
        "prefix unit: <http://qudt.org/vocab/unit/>\n",
        "prefix owl:  <http://www.w3.org/2002/07/owl#>\n",
        "\n",
        "SELECT ?class (count(?class) as ?noOfInstances)\n",
        "\n",
        "WHERE { \n",
        "  ?x a ?class .\n",
        "} Group By ?class \n",
        "Having (count(?class) > 2)\n",
        "ORDER BY ?class\n",
        "\"\"\")\n",
        "df"
      ],
      "metadata": {
        "id": "AxB2DcY-F70Y"
      },
      "execution_count": null,
      "outputs": []
    },
    {
      "cell_type": "markdown",
      "source": [
        "## Task 6 (1 pt)\n",
        "\n",
        "*TODO: add task description*"
      ],
      "metadata": {
        "id": "nB_ZOGV9F7_v"
      }
    },
    {
      "cell_type": "code",
      "source": [
        "# TODO: include and execute the query, display the result\n",
        "df = sparql_select(g, \"\"\"\n",
        "base         <http://dke.jku.at/example/>\n",
        "prefix :     <http://dke.jku.at/example/solarsystem/>\n",
        "prefix v:    <http://dke.jku.at/example/examplevocabulary/>\n",
        "prefix rdf:  <http://www.w3.org/1999/02/22-rdf-syntax-ns#>\n",
        "prefix rdfs: <http://www.w3.org/2000/01/rdf-schema#>\n",
        "prefix dbr:  <http://dbpedia.org/resource/>\n",
        "prefix dbo:  <http://dbpedia.org/ontology/>\n",
        "prefix dbd:\t <http://dbpedia.org/datatype/>\n",
        "prefix sdo:  <http://schema.org/>\n",
        "prefix wd:   <http://www.wikidata.org/entity/>\n",
        "prefix wdp:  <http://www.wikidata.org/prop/>\n",
        "prefix skos: <http://www.w3.org/2004/02/skos/core#>\n",
        "prefix unit: <http://qudt.org/vocab/unit/>\n",
        "prefix owl:  <http://www.w3.org/2002/07/owl#>\n",
        "\n",
        "SELECT ?class ?prop (COUNT(DISTINCT ?x) AS ?noOfInstances)\n",
        "WHERE {\n",
        "?x a ?class;\n",
        "?prop ?y .\n",
        "} \n",
        "GROUP BY ?class ?prop\n",
        "Having ( COUNT(DISTINCT ?x) >= 7 )\n",
        "ORDER BY ?class ?prop\"\"\")\n",
        "df\n"
      ],
      "metadata": {
        "id": "x4uW2B4dF7_w"
      },
      "execution_count": null,
      "outputs": []
    },
    {
      "cell_type": "markdown",
      "source": [
        "## Task 7 (1 pt)\n",
        "\n",
        "*TODO: add task description*"
      ],
      "metadata": {
        "id": "nXPqBOZjF8LH"
      }
    },
    {
      "cell_type": "code",
      "source": [
        "# TODO: include and execute the query, display the result\n",
        "df = sparql_select(g, \"\"\"\n",
        "base         <http://dke.jku.at/example/>\n",
        "prefix :     <http://dke.jku.at/example/solarsystem/>\n",
        "prefix v:    <http://dke.jku.at/example/examplevocabulary/>\n",
        "prefix rdf:  <http://www.w3.org/1999/02/22-rdf-syntax-ns#>\n",
        "prefix rdfs: <http://www.w3.org/2000/01/rdf-schema#>\n",
        "prefix dbr:  <http://dbpedia.org/resource/>\n",
        "prefix dbo:  <http://dbpedia.org/ontology/>\n",
        "prefix dbd:\t <http://dbpedia.org/datatype/>\n",
        "prefix sdo:  <http://schema.org/>\n",
        "prefix wd:   <http://www.wikidata.org/entity/>\n",
        "prefix wdp:  <http://www.wikidata.org/prop/>\n",
        "prefix skos: <http://www.w3.org/2004/02/skos/core#>\n",
        "prefix unit: <http://qudt.org/vocab/unit/>\n",
        "prefix owl:  <http://www.w3.org/2002/07/owl#>\n",
        "\n",
        "SELECT ?x ?y\n",
        "WHERE { \n",
        "{\n",
        "?x a dbo:Star .\n",
        "}\n",
        "UNION\n",
        "{\n",
        "?x a dbo:Satellite .\n",
        "}\n",
        "OPTIONAL{?x v:orbits ?y}\n",
        "}\n",
        "ORDER BY ?x\n",
        "\"\"\")\n",
        "df"
      ],
      "metadata": {
        "id": "rDqaQlDhF8LI"
      },
      "execution_count": null,
      "outputs": []
    },
    {
      "cell_type": "markdown",
      "source": [
        "## Task 8 (1 pt)\n",
        "\n",
        "*TODO: add task description*"
      ],
      "metadata": {
        "id": "Us6tYyDHF8V_"
      }
    },
    {
      "cell_type": "code",
      "source": [
        "# TODO: include and execute the query, display the result\n",
        "df = sparql_construct(g, \"\"\"\n",
        "base         <http://dke.jku.at/example/>\n",
        "prefix :     <http://dke.jku.at/example/solarsystem/>\n",
        "prefix v:    <http://dke.jku.at/example/examplevocabulary/>\n",
        "prefix rdf:  <http://www.w3.org/1999/02/22-rdf-syntax-ns#>\n",
        "prefix rdfs: <http://www.w3.org/2000/01/rdf-schema#>\n",
        "prefix dbr:  <http://dbpedia.org/resource/>\n",
        "prefix dbo:  <http://dbpedia.org/ontology/>\n",
        "prefix dbd:\t <http://dbpedia.org/datatype/>\n",
        "prefix sdo:  <http://schema.org/>\n",
        "prefix wd:   <http://www.wikidata.org/entity/>\n",
        "prefix wdp:  <http://www.wikidata.org/prop/>\n",
        "prefix skos: <http://www.w3.org/2004/02/skos/core#>\n",
        "prefix unit: <http://qudt.org/vocab/unit/>\n",
        "prefix owl:  <http://www.w3.org/2002/07/owl#>\n",
        "\n",
        "CONSTRUCT {\n",
        "?y rdf:type v:Himmelskoerper .\n",
        "?x v:wirdUmrundetVon ?y }\n",
        "WHERE {\n",
        "?y v:orbits ?x .\n",
        "FILTER NOT EXISTS {?y a dbo:DwarfPlanet}\n",
        "}\n",
        "\"\"\")\n",
        "print(df.serialize(format='turtle'))"
      ],
      "metadata": {
        "id": "Mij855L3F8V_"
      },
      "execution_count": null,
      "outputs": []
    },
    {
      "cell_type": "markdown",
      "source": [
        "## Task 9 (1 pt)\n",
        "\n",
        "*TODO: add task description*"
      ],
      "metadata": {
        "id": "IPLpuY8iF8gv"
      }
    },
    {
      "cell_type": "code",
      "source": [
        "# TODO: include and execute the query, display the result\n",
        "df = sparql_ask(g, \"\"\"\n",
        "base         <http://dke.jku.at/example/>\n",
        "prefix :     <http://dke.jku.at/example/solarsystem/>\n",
        "prefix v:    <http://dke.jku.at/example/examplevocabulary/>\n",
        "prefix rdf:  <http://www.w3.org/1999/02/22-rdf-syntax-ns#>\n",
        "prefix rdfs: <http://www.w3.org/2000/01/rdf-schema#>\n",
        "prefix dbr:  <http://dbpedia.org/resource/>\n",
        "prefix dbo:  <http://dbpedia.org/ontology/>\n",
        "prefix dbd:\t <http://dbpedia.org/datatype/>\n",
        "prefix sdo:  <http://schema.org/>\n",
        "prefix wd:   <http://www.wikidata.org/entity/>\n",
        "prefix wdp:  <http://www.wikidata.org/prop/>\n",
        "prefix skos: <http://www.w3.org/2004/02/skos/core#>\n",
        "prefix unit: <http://qudt.org/vocab/unit/>\n",
        "prefix owl:  <http://www.w3.org/2002/07/owl#>\n",
        "\n",
        "ASK {\n",
        "{?stern a dbo:Star;\n",
        "v:mass [\n",
        "rdf:value ?mass ;\n",
        "v:uom v:SolarMass;]}\n",
        "UNION\n",
        "{?stern a dbo:Star;\n",
        "v:mass [\n",
        "rdf:value ?x ;\n",
        "v:uom unit:KM]\n",
        "BIND ((?x / 1.9884E30) as ?mas)}\n",
        "\n",
        "FILTER( ?mass > 0.9986 )\n",
        "}\n",
        "\"\"\")\n",
        "df"
      ],
      "metadata": {
        "id": "SaYpWyW0F8gw"
      },
      "execution_count": null,
      "outputs": []
    },
    {
      "cell_type": "markdown",
      "source": [
        "## Task 10 (1 pt)\n",
        "\n",
        "*TODO: add task description*"
      ],
      "metadata": {
        "id": "vszUEtolF8qv"
      }
    },
    {
      "cell_type": "code",
      "source": [
        "# TODO: include and execute the query, display the result\n",
        "df = sparql_construct(g, \"\"\"\n",
        "base         <http://dke.jku.at/example/>\n",
        "prefix :     <http://dke.jku.at/example/solarsystem/>\n",
        "prefix v:    <http://dke.jku.at/example/examplevocabulary/>\n",
        "prefix rdf:  <http://www.w3.org/1999/02/22-rdf-syntax-ns#>\n",
        "prefix rdfs: <http://www.w3.org/2000/01/rdf-schema#>\n",
        "prefix dbr:  <http://dbpedia.org/resource/>\n",
        "prefix dbo:  <http://dbpedia.org/ontology/>\n",
        "prefix dbd:\t <http://dbpedia.org/datatype/>\n",
        "prefix sdo:  <http://schema.org/>\n",
        "prefix wd:   <http://www.wikidata.org/entity/>\n",
        "prefix wdp:  <http://www.wikidata.org/prop/>\n",
        "prefix skos: <http://www.w3.org/2004/02/skos/core#>\n",
        "prefix unit: <http://qudt.org/vocab/unit/>\n",
        "prefix owl:  <http://www.w3.org/2002/07/owl#>\n",
        "\n",
        "DESCRIBE ?o\n",
        "WHERE {\n",
        "{\n",
        "?o v:radius [\n",
        "rdf:value ?rad;\n",
        "v:uom unit:KM;\n",
        "]}\n",
        "UNION\n",
        "{\n",
        "?o v:radius [\n",
        "rdf:value ?x;\n",
        "v:uom v:SolarRadius;\n",
        "]\n",
        "BIND((?x * 695700) as ?rad)}\n",
        "FILTER(?rad < 30000 && ?rad > 20000)\n",
        "}\n",
        "\"\"\")\n",
        "print(df.serialize(format='turtle'))"
      ],
      "metadata": {
        "id": "t8gZYqQNF8qv"
      },
      "execution_count": null,
      "outputs": []
    }
  ]
}